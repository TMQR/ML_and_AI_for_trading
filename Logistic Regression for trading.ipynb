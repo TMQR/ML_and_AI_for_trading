{
 "cells": [
  {
   "cell_type": "code",
   "execution_count": 122,
   "metadata": {},
   "outputs": [],
   "source": [
    "import numpy as np\n",
    "import pandas as pd\n",
    "\n",
    "from sklearn import mixture as mix\n",
    "\n",
    "import matplotlib.pyplot as plt \n",
    "import jhtalib as jhta\n",
    "import seaborn as sns\n",
    "from sklearn.preprocessing import StandardScaler\n",
    "\n",
    "from sklearn.svm import SVC\n",
    "\n",
    "import scipy\n",
    "import statsmodels.api as sm\n",
    "\n",
    "\n",
    "import bt\n",
    "import ffn\n",
    "import datetime \n",
    "\n",
    "\n",
    "#AlphaVantage Key insert quandl and tiingo also\n",
    "key = 'AVC65FM7A32OFUBP'\n",
    "\n",
    "from alpha_vantage.techindicators import TechIndicators\n",
    "from alpha_vantage.timeseries import TimeSeries\n",
    "\n",
    "\n",
    "ti = TechIndicators(key=key, output_format='pandas')\n",
    "ts = TimeSeries(key=key, output_format='pandas', indexing_type='date')\n"
   ]
  },
  {
   "cell_type": "code",
   "execution_count": 123,
   "metadata": {},
   "outputs": [],
   "source": [
    "# Machine learning\n",
    "from sklearn.linear_model import LogisticRegression\n",
    "from sklearn import metrics\n",
    "from sklearn.cross_validation import cross_val_score"
   ]
  },
  {
   "cell_type": "code",
   "execution_count": 124,
   "metadata": {},
   "outputs": [],
   "source": [
    "data = bt.get('spy', start='1997-01-01')"
   ]
  },
  {
   "cell_type": "code",
   "execution_count": 125,
   "metadata": {},
   "outputs": [
    {
     "data": {
      "text/html": [
       "<div>\n",
       "<style scoped>\n",
       "    .dataframe tbody tr th:only-of-type {\n",
       "        vertical-align: middle;\n",
       "    }\n",
       "\n",
       "    .dataframe tbody tr th {\n",
       "        vertical-align: top;\n",
       "    }\n",
       "\n",
       "    .dataframe thead th {\n",
       "        text-align: right;\n",
       "    }\n",
       "</style>\n",
       "<table border=\"1\" class=\"dataframe\">\n",
       "  <thead>\n",
       "    <tr style=\"text-align: right;\">\n",
       "      <th></th>\n",
       "      <th>spy</th>\n",
       "    </tr>\n",
       "    <tr>\n",
       "      <th>Date</th>\n",
       "      <th></th>\n",
       "    </tr>\n",
       "  </thead>\n",
       "  <tbody>\n",
       "    <tr>\n",
       "      <th>1997-01-02</th>\n",
       "      <td>50.166637</td>\n",
       "    </tr>\n",
       "    <tr>\n",
       "      <th>1997-01-03</th>\n",
       "      <td>50.886654</td>\n",
       "    </tr>\n",
       "    <tr>\n",
       "      <th>1997-01-06</th>\n",
       "      <td>50.441986</td>\n",
       "    </tr>\n",
       "    <tr>\n",
       "      <th>1997-01-07</th>\n",
       "      <td>51.056068</td>\n",
       "    </tr>\n",
       "    <tr>\n",
       "      <th>1997-01-08</th>\n",
       "      <td>50.611412</td>\n",
       "    </tr>\n",
       "  </tbody>\n",
       "</table>\n",
       "</div>"
      ],
      "text/plain": [
       "                  spy\n",
       "Date                 \n",
       "1997-01-02  50.166637\n",
       "1997-01-03  50.886654\n",
       "1997-01-06  50.441986\n",
       "1997-01-07  51.056068\n",
       "1997-01-08  50.611412"
      ]
     },
     "execution_count": 125,
     "metadata": {},
     "output_type": "execute_result"
    }
   ],
   "source": [
    "data.head()"
   ]
  },
  {
   "cell_type": "code",
   "execution_count": 126,
   "metadata": {},
   "outputs": [],
   "source": [
    "#Get data from Tiingo\n",
    "\n",
    "from tiingo import TiingoClient\n",
    "\n",
    "config = {}\n",
    "\n",
    "# To reuse the same HTTP Session across API calls (and have better performance), include a session key.\n",
    "config['session'] = True\n",
    "\n",
    "# If you don't have your API key as an environment variable,\n",
    "# pass it in via a configuration dictionary.\n",
    "config['api_key'] = \"539f5b3fef6e2386a8e71ad5ba2a2b4fbc55d90a\"\n",
    "\n",
    "# Initialize\n",
    "\n",
    "client = TiingoClient(config)\n",
    "# ticker_history = client.get_dataframe(\"GOOGL\")\n",
    "\n",
    "\n",
    "start_date = '1997-01-01'\n",
    "df = client.get_dataframe('aapl', startDate=start_date)"
   ]
  },
  {
   "cell_type": "code",
   "execution_count": 127,
   "metadata": {},
   "outputs": [
    {
     "data": {
      "text/html": [
       "<div>\n",
       "<style scoped>\n",
       "    .dataframe tbody tr th:only-of-type {\n",
       "        vertical-align: middle;\n",
       "    }\n",
       "\n",
       "    .dataframe tbody tr th {\n",
       "        vertical-align: top;\n",
       "    }\n",
       "\n",
       "    .dataframe thead th {\n",
       "        text-align: right;\n",
       "    }\n",
       "</style>\n",
       "<table border=\"1\" class=\"dataframe\">\n",
       "  <thead>\n",
       "    <tr style=\"text-align: right;\">\n",
       "      <th></th>\n",
       "      <th>adjClose</th>\n",
       "      <th>adjHigh</th>\n",
       "      <th>adjLow</th>\n",
       "      <th>adjOpen</th>\n",
       "      <th>adjVolume</th>\n",
       "      <th>close</th>\n",
       "      <th>divCash</th>\n",
       "      <th>high</th>\n",
       "      <th>low</th>\n",
       "      <th>open</th>\n",
       "      <th>splitFactor</th>\n",
       "      <th>volume</th>\n",
       "    </tr>\n",
       "    <tr>\n",
       "      <th>date</th>\n",
       "      <th></th>\n",
       "      <th></th>\n",
       "      <th></th>\n",
       "      <th></th>\n",
       "      <th></th>\n",
       "      <th></th>\n",
       "      <th></th>\n",
       "      <th></th>\n",
       "      <th></th>\n",
       "      <th></th>\n",
       "      <th></th>\n",
       "      <th></th>\n",
       "    </tr>\n",
       "  </thead>\n",
       "  <tbody>\n",
       "    <tr>\n",
       "      <th>1997-01-02</th>\n",
       "      <td>0.662338</td>\n",
       "      <td>0.670223</td>\n",
       "      <td>0.654453</td>\n",
       "      <td>0.666123</td>\n",
       "      <td>35778435</td>\n",
       "      <td>21.00</td>\n",
       "      <td>0.0</td>\n",
       "      <td>21.25</td>\n",
       "      <td>20.75</td>\n",
       "      <td>21.12</td>\n",
       "      <td>1.0</td>\n",
       "      <td>1277800</td>\n",
       "    </tr>\n",
       "    <tr>\n",
       "      <th>1997-01-03</th>\n",
       "      <td>0.685993</td>\n",
       "      <td>0.701763</td>\n",
       "      <td>0.662338</td>\n",
       "      <td>0.666123</td>\n",
       "      <td>29929229</td>\n",
       "      <td>21.75</td>\n",
       "      <td>0.0</td>\n",
       "      <td>22.25</td>\n",
       "      <td>21.00</td>\n",
       "      <td>21.12</td>\n",
       "      <td>1.0</td>\n",
       "      <td>1068900</td>\n",
       "    </tr>\n",
       "    <tr>\n",
       "      <th>1997-01-06</th>\n",
       "      <td>0.563618</td>\n",
       "      <td>0.578442</td>\n",
       "      <td>0.544063</td>\n",
       "      <td>0.555733</td>\n",
       "      <td>470708470</td>\n",
       "      <td>17.87</td>\n",
       "      <td>0.0</td>\n",
       "      <td>18.34</td>\n",
       "      <td>17.25</td>\n",
       "      <td>17.62</td>\n",
       "      <td>1.0</td>\n",
       "      <td>16811000</td>\n",
       "    </tr>\n",
       "    <tr>\n",
       "      <th>1997-01-07</th>\n",
       "      <td>0.551948</td>\n",
       "      <td>0.575603</td>\n",
       "      <td>0.551948</td>\n",
       "      <td>0.571503</td>\n",
       "      <td>244233044</td>\n",
       "      <td>17.50</td>\n",
       "      <td>0.0</td>\n",
       "      <td>18.25</td>\n",
       "      <td>17.50</td>\n",
       "      <td>18.12</td>\n",
       "      <td>1.0</td>\n",
       "      <td>8722600</td>\n",
       "    </tr>\n",
       "    <tr>\n",
       "      <th>1997-01-08</th>\n",
       "      <td>0.555733</td>\n",
       "      <td>0.579388</td>\n",
       "      <td>0.547848</td>\n",
       "      <td>0.575603</td>\n",
       "      <td>275033075</td>\n",
       "      <td>17.62</td>\n",
       "      <td>0.0</td>\n",
       "      <td>18.37</td>\n",
       "      <td>17.37</td>\n",
       "      <td>18.25</td>\n",
       "      <td>1.0</td>\n",
       "      <td>9822600</td>\n",
       "    </tr>\n",
       "  </tbody>\n",
       "</table>\n",
       "</div>"
      ],
      "text/plain": [
       "            adjClose   adjHigh    adjLow   adjOpen  adjVolume  close  divCash  \\\n",
       "date                                                                            \n",
       "1997-01-02  0.662338  0.670223  0.654453  0.666123   35778435  21.00      0.0   \n",
       "1997-01-03  0.685993  0.701763  0.662338  0.666123   29929229  21.75      0.0   \n",
       "1997-01-06  0.563618  0.578442  0.544063  0.555733  470708470  17.87      0.0   \n",
       "1997-01-07  0.551948  0.575603  0.551948  0.571503  244233044  17.50      0.0   \n",
       "1997-01-08  0.555733  0.579388  0.547848  0.575603  275033075  17.62      0.0   \n",
       "\n",
       "             high    low   open  splitFactor    volume  \n",
       "date                                                    \n",
       "1997-01-02  21.25  20.75  21.12          1.0   1277800  \n",
       "1997-01-03  22.25  21.00  21.12          1.0   1068900  \n",
       "1997-01-06  18.34  17.25  17.62          1.0  16811000  \n",
       "1997-01-07  18.25  17.50  18.12          1.0   8722600  \n",
       "1997-01-08  18.37  17.37  18.25          1.0   9822600  "
      ]
     },
     "execution_count": 127,
     "metadata": {},
     "output_type": "execute_result"
    }
   ],
   "source": [
    "df.head()"
   ]
  },
  {
   "cell_type": "code",
   "execution_count": 128,
   "metadata": {},
   "outputs": [
    {
     "data": {
      "text/plain": [
       "Index(['adjClose', 'adjHigh', 'adjLow', 'adjOpen', 'adjVolume', 'close',\n",
       "       'divCash', 'high', 'low', 'open', 'splitFactor', 'volume'],\n",
       "      dtype='object')"
      ]
     },
     "execution_count": 128,
     "metadata": {},
     "output_type": "execute_result"
    }
   ],
   "source": [
    "df.columns"
   ]
  },
  {
   "cell_type": "code",
   "execution_count": 129,
   "metadata": {},
   "outputs": [],
   "source": [
    "df = df[['adjClose', 'adjHigh', 'adjLow', 'adjOpen']]\n",
    "df = df.rename( columns={'adjClose': 'Close','adjHigh':'High', 'adjLow': 'Low','adjOpen':'Open'})\n"
   ]
  },
  {
   "cell_type": "code",
   "execution_count": 130,
   "metadata": {},
   "outputs": [
    {
     "data": {
      "text/html": [
       "<div>\n",
       "<style scoped>\n",
       "    .dataframe tbody tr th:only-of-type {\n",
       "        vertical-align: middle;\n",
       "    }\n",
       "\n",
       "    .dataframe tbody tr th {\n",
       "        vertical-align: top;\n",
       "    }\n",
       "\n",
       "    .dataframe thead th {\n",
       "        text-align: right;\n",
       "    }\n",
       "</style>\n",
       "<table border=\"1\" class=\"dataframe\">\n",
       "  <thead>\n",
       "    <tr style=\"text-align: right;\">\n",
       "      <th></th>\n",
       "      <th>Close</th>\n",
       "      <th>High</th>\n",
       "      <th>Low</th>\n",
       "      <th>Open</th>\n",
       "    </tr>\n",
       "    <tr>\n",
       "      <th>date</th>\n",
       "      <th></th>\n",
       "      <th></th>\n",
       "      <th></th>\n",
       "      <th></th>\n",
       "    </tr>\n",
       "  </thead>\n",
       "  <tbody>\n",
       "    <tr>\n",
       "      <th>1997-01-02</th>\n",
       "      <td>0.662338</td>\n",
       "      <td>0.670223</td>\n",
       "      <td>0.654453</td>\n",
       "      <td>0.666123</td>\n",
       "    </tr>\n",
       "    <tr>\n",
       "      <th>1997-01-03</th>\n",
       "      <td>0.685993</td>\n",
       "      <td>0.701763</td>\n",
       "      <td>0.662338</td>\n",
       "      <td>0.666123</td>\n",
       "    </tr>\n",
       "    <tr>\n",
       "      <th>1997-01-06</th>\n",
       "      <td>0.563618</td>\n",
       "      <td>0.578442</td>\n",
       "      <td>0.544063</td>\n",
       "      <td>0.555733</td>\n",
       "    </tr>\n",
       "    <tr>\n",
       "      <th>1997-01-07</th>\n",
       "      <td>0.551948</td>\n",
       "      <td>0.575603</td>\n",
       "      <td>0.551948</td>\n",
       "      <td>0.571503</td>\n",
       "    </tr>\n",
       "    <tr>\n",
       "      <th>1997-01-08</th>\n",
       "      <td>0.555733</td>\n",
       "      <td>0.579388</td>\n",
       "      <td>0.547848</td>\n",
       "      <td>0.575603</td>\n",
       "    </tr>\n",
       "  </tbody>\n",
       "</table>\n",
       "</div>"
      ],
      "text/plain": [
       "               Close      High       Low      Open\n",
       "date                                              \n",
       "1997-01-02  0.662338  0.670223  0.654453  0.666123\n",
       "1997-01-03  0.685993  0.701763  0.662338  0.666123\n",
       "1997-01-06  0.563618  0.578442  0.544063  0.555733\n",
       "1997-01-07  0.551948  0.575603  0.551948  0.571503\n",
       "1997-01-08  0.555733  0.579388  0.547848  0.575603"
      ]
     },
     "execution_count": 130,
     "metadata": {},
     "output_type": "execute_result"
    }
   ],
   "source": [
    "df.head()"
   ]
  },
  {
   "cell_type": "code",
   "execution_count": null,
   "metadata": {},
   "outputs": [],
   "source": []
  },
  {
   "cell_type": "markdown",
   "metadata": {},
   "source": [
    "# Define Predictor/Independent Variables\n",
    "#### calculate the 10-day rolling  average, correlation, RSI, difference between Open and yesterday close,  differnce today and yesterday closes."
   ]
  },
  {
   "cell_type": "code",
   "execution_count": 131,
   "metadata": {
    "scrolled": false
   },
   "outputs": [],
   "source": [
    "df['S_10'] = df['Close'].rolling(window=10).mean()\n",
    "df['Corr'] = df['Close'].rolling(window=10).corr(df['S_10'])\n",
    "\n",
    "# # df['RSI'] = pd.DataFrame(jhta.RSI(df,n=10, price='adjClose'),index=df.index)\n",
    "\n",
    "df['RSI'] = pd.DataFrame(jhta.SAR(df, af_step=0.2, af_max=0.2),index=df.index)\n",
    "\n",
    "df['Open-Close'] = df['Open'] - df['Close'].shift(1)\n",
    "df['Open-Open'] = df['Open'] - df['Open'].shift(1)\n",
    "\n",
    "df = df.dropna()\n",
    "X = df.iloc[:,:9]"
   ]
  },
  {
   "cell_type": "code",
   "execution_count": 132,
   "metadata": {},
   "outputs": [
    {
     "data": {
      "text/plain": [
       "Index(['Close', 'High', 'Low', 'Open', 'S_10', 'Corr', 'RSI', 'Open-Close',\n",
       "       'Open-Open'],\n",
       "      dtype='object')"
      ]
     },
     "execution_count": 132,
     "metadata": {},
     "output_type": "execute_result"
    }
   ],
   "source": [
    "df.columns"
   ]
  },
  {
   "cell_type": "code",
   "execution_count": null,
   "metadata": {},
   "outputs": [],
   "source": []
  },
  {
   "cell_type": "code",
   "execution_count": null,
   "metadata": {},
   "outputs": [],
   "source": []
  },
  {
   "cell_type": "code",
   "execution_count": 133,
   "metadata": {},
   "outputs": [
    {
     "data": {
      "text/plain": [
       "Index(['Close', 'High', 'Low', 'Open', 'S_10', 'Corr', 'RSI', 'Open-Close',\n",
       "       'Open-Open'],\n",
       "      dtype='object')"
      ]
     },
     "execution_count": 133,
     "metadata": {},
     "output_type": "execute_result"
    }
   ],
   "source": [
    "df.columns"
   ]
  },
  {
   "cell_type": "code",
   "execution_count": 134,
   "metadata": {},
   "outputs": [],
   "source": [
    "X = df"
   ]
  },
  {
   "cell_type": "code",
   "execution_count": 135,
   "metadata": {},
   "outputs": [
    {
     "data": {
      "text/html": [
       "<div>\n",
       "<style scoped>\n",
       "    .dataframe tbody tr th:only-of-type {\n",
       "        vertical-align: middle;\n",
       "    }\n",
       "\n",
       "    .dataframe tbody tr th {\n",
       "        vertical-align: top;\n",
       "    }\n",
       "\n",
       "    .dataframe thead th {\n",
       "        text-align: right;\n",
       "    }\n",
       "</style>\n",
       "<table border=\"1\" class=\"dataframe\">\n",
       "  <thead>\n",
       "    <tr style=\"text-align: right;\">\n",
       "      <th></th>\n",
       "      <th>Close</th>\n",
       "      <th>High</th>\n",
       "      <th>Low</th>\n",
       "      <th>Open</th>\n",
       "      <th>S_10</th>\n",
       "      <th>Corr</th>\n",
       "      <th>RSI</th>\n",
       "      <th>Open-Close</th>\n",
       "      <th>Open-Open</th>\n",
       "    </tr>\n",
       "    <tr>\n",
       "      <th>date</th>\n",
       "      <th></th>\n",
       "      <th></th>\n",
       "      <th></th>\n",
       "      <th></th>\n",
       "      <th></th>\n",
       "      <th></th>\n",
       "      <th></th>\n",
       "      <th></th>\n",
       "      <th></th>\n",
       "    </tr>\n",
       "  </thead>\n",
       "  <tbody>\n",
       "    <tr>\n",
       "      <th>2018-12-11</th>\n",
       "      <td>168.63</td>\n",
       "      <td>171.79</td>\n",
       "      <td>167.00</td>\n",
       "      <td>171.66</td>\n",
       "      <td>175.626</td>\n",
       "      <td>0.587219</td>\n",
       "      <td>176.323536</td>\n",
       "      <td>2.06</td>\n",
       "      <td>6.66</td>\n",
       "    </tr>\n",
       "    <tr>\n",
       "      <th>2018-12-12</th>\n",
       "      <td>169.10</td>\n",
       "      <td>171.92</td>\n",
       "      <td>169.02</td>\n",
       "      <td>170.40</td>\n",
       "      <td>175.112</td>\n",
       "      <td>0.825258</td>\n",
       "      <td>173.724829</td>\n",
       "      <td>1.77</td>\n",
       "      <td>-1.26</td>\n",
       "    </tr>\n",
       "    <tr>\n",
       "      <th>2018-12-13</th>\n",
       "      <td>170.95</td>\n",
       "      <td>172.57</td>\n",
       "      <td>169.55</td>\n",
       "      <td>170.49</td>\n",
       "      <td>174.113</td>\n",
       "      <td>0.787631</td>\n",
       "      <td>163.330000</td>\n",
       "      <td>1.39</td>\n",
       "      <td>0.09</td>\n",
       "    </tr>\n",
       "    <tr>\n",
       "      <th>2018-12-14</th>\n",
       "      <td>165.48</td>\n",
       "      <td>169.08</td>\n",
       "      <td>165.28</td>\n",
       "      <td>169.00</td>\n",
       "      <td>172.706</td>\n",
       "      <td>0.820926</td>\n",
       "      <td>165.178000</td>\n",
       "      <td>-1.95</td>\n",
       "      <td>-1.49</td>\n",
       "    </tr>\n",
       "    <tr>\n",
       "      <th>2018-12-17</th>\n",
       "      <td>163.94</td>\n",
       "      <td>168.35</td>\n",
       "      <td>162.73</td>\n",
       "      <td>165.45</td>\n",
       "      <td>171.242</td>\n",
       "      <td>0.823232</td>\n",
       "      <td>172.570000</td>\n",
       "      <td>-0.03</td>\n",
       "      <td>-3.55</td>\n",
       "    </tr>\n",
       "  </tbody>\n",
       "</table>\n",
       "</div>"
      ],
      "text/plain": [
       "             Close    High     Low    Open     S_10      Corr         RSI  \\\n",
       "date                                                                        \n",
       "2018-12-11  168.63  171.79  167.00  171.66  175.626  0.587219  176.323536   \n",
       "2018-12-12  169.10  171.92  169.02  170.40  175.112  0.825258  173.724829   \n",
       "2018-12-13  170.95  172.57  169.55  170.49  174.113  0.787631  163.330000   \n",
       "2018-12-14  165.48  169.08  165.28  169.00  172.706  0.820926  165.178000   \n",
       "2018-12-17  163.94  168.35  162.73  165.45  171.242  0.823232  172.570000   \n",
       "\n",
       "            Open-Close  Open-Open  \n",
       "date                               \n",
       "2018-12-11        2.06       6.66  \n",
       "2018-12-12        1.77      -1.26  \n",
       "2018-12-13        1.39       0.09  \n",
       "2018-12-14       -1.95      -1.49  \n",
       "2018-12-17       -0.03      -3.55  "
      ]
     },
     "execution_count": 135,
     "metadata": {},
     "output_type": "execute_result"
    }
   ],
   "source": [
    "X.tail()"
   ]
  },
  {
   "cell_type": "code",
   "execution_count": null,
   "metadata": {},
   "outputs": [],
   "source": []
  },
  {
   "cell_type": "markdown",
   "metadata": {},
   "source": [
    "#  Define Target/Dependent Variable\n",
    "#### If the tomorrow’s closing price is higher than today’s closing price, then we will buy the stock (1),  else we will sell it (-1)."
   ]
  },
  {
   "cell_type": "code",
   "execution_count": 136,
   "metadata": {},
   "outputs": [
    {
     "data": {
      "text/plain": [
       "array([-1,  1, -1, ..., -1, -1, -1])"
      ]
     },
     "execution_count": 136,
     "metadata": {},
     "output_type": "execute_result"
    }
   ],
   "source": [
    "y = np.where (df['Close'].shift(-1) > df['Close'],1,-1) #mean revert vs. TF, Long vs. Short\n",
    "y"
   ]
  },
  {
   "cell_type": "markdown",
   "metadata": {},
   "source": [
    "# Split The Dataset\n",
    "#####  We will split the dataset into a training dataset and test dataset. We will use 70% of our data to train and the rest 20% to test. To do this, we will create a split variable which will divide the data frame in a 70-30 ratio. ‘X_train’ and ‘Y_train’ are the train dataset. ‘X_test’ and ‘Y_test’ are the test dataset."
   ]
  },
  {
   "cell_type": "code",
   "execution_count": 137,
   "metadata": {},
   "outputs": [],
   "source": [
    "split = int(0.75*len(df))\n",
    "\n",
    "X_train, X_test, y_train, y_test = X[:split], X[split:], y[:split], y[split:]"
   ]
  },
  {
   "cell_type": "markdown",
   "metadata": {},
   "source": [
    "#  Instantiate The Logistic Regression\n",
    "#### We will instantiate the logistic regression in Python using ‘LogisticRegression’ function and fit the model on the training dataset using ‘fit’ function."
   ]
  },
  {
   "cell_type": "code",
   "execution_count": 138,
   "metadata": {},
   "outputs": [],
   "source": [
    "model = LogisticRegression()\n",
    "\n",
    "model = model.fit (X_train,y_train)"
   ]
  },
  {
   "cell_type": "markdown",
   "metadata": {},
   "source": [
    "# Examine The Coefficients"
   ]
  },
  {
   "cell_type": "code",
   "execution_count": 139,
   "metadata": {},
   "outputs": [
    {
     "data": {
      "text/html": [
       "<div>\n",
       "<style scoped>\n",
       "    .dataframe tbody tr th:only-of-type {\n",
       "        vertical-align: middle;\n",
       "    }\n",
       "\n",
       "    .dataframe tbody tr th {\n",
       "        vertical-align: top;\n",
       "    }\n",
       "\n",
       "    .dataframe thead th {\n",
       "        text-align: right;\n",
       "    }\n",
       "</style>\n",
       "<table border=\"1\" class=\"dataframe\">\n",
       "  <thead>\n",
       "    <tr style=\"text-align: right;\">\n",
       "      <th></th>\n",
       "      <th>0</th>\n",
       "      <th>1</th>\n",
       "    </tr>\n",
       "  </thead>\n",
       "  <tbody>\n",
       "    <tr>\n",
       "      <th>0</th>\n",
       "      <td>Close</td>\n",
       "      <td>[-0.35787550153879755]</td>\n",
       "    </tr>\n",
       "    <tr>\n",
       "      <th>1</th>\n",
       "      <td>High</td>\n",
       "      <td>[0.2200277709674234]</td>\n",
       "    </tr>\n",
       "    <tr>\n",
       "      <th>2</th>\n",
       "      <td>Low</td>\n",
       "      <td>[0.28226371440463455]</td>\n",
       "    </tr>\n",
       "    <tr>\n",
       "      <th>3</th>\n",
       "      <td>Open</td>\n",
       "      <td>[-0.06764125060820039]</td>\n",
       "    </tr>\n",
       "    <tr>\n",
       "      <th>4</th>\n",
       "      <td>S_10</td>\n",
       "      <td>[-0.03626539641304208]</td>\n",
       "    </tr>\n",
       "    <tr>\n",
       "      <th>5</th>\n",
       "      <td>Corr</td>\n",
       "      <td>[-0.07207046488855441]</td>\n",
       "    </tr>\n",
       "    <tr>\n",
       "      <th>6</th>\n",
       "      <td>RSI</td>\n",
       "      <td>[-0.03963239589827793]</td>\n",
       "    </tr>\n",
       "    <tr>\n",
       "      <th>7</th>\n",
       "      <td>Open-Close</td>\n",
       "      <td>[0.14505469098624033]</td>\n",
       "    </tr>\n",
       "    <tr>\n",
       "      <th>8</th>\n",
       "      <td>Open-Open</td>\n",
       "      <td>[-0.09631345694529987]</td>\n",
       "    </tr>\n",
       "  </tbody>\n",
       "</table>\n",
       "</div>"
      ],
      "text/plain": [
       "            0                       1\n",
       "0       Close  [-0.35787550153879755]\n",
       "1        High    [0.2200277709674234]\n",
       "2         Low   [0.28226371440463455]\n",
       "3        Open  [-0.06764125060820039]\n",
       "4        S_10  [-0.03626539641304208]\n",
       "5        Corr  [-0.07207046488855441]\n",
       "6         RSI  [-0.03963239589827793]\n",
       "7  Open-Close   [0.14505469098624033]\n",
       "8   Open-Open  [-0.09631345694529987]"
      ]
     },
     "execution_count": 139,
     "metadata": {},
     "output_type": "execute_result"
    }
   ],
   "source": [
    "eee = (zip(X.columns, np.transpose(model.coef_)))\n",
    "pd.DataFrame(list(eee))"
   ]
  },
  {
   "cell_type": "markdown",
   "metadata": {},
   "source": [
    "# Calculate Class Probabilities"
   ]
  },
  {
   "cell_type": "code",
   "execution_count": 140,
   "metadata": {},
   "outputs": [
    {
     "name": "stdout",
     "output_type": "stream",
     "text": [
      "[[0.54058902 0.45941098]\n",
      " [0.50323581 0.49676419]\n",
      " [0.48904836 0.51095164]\n",
      " ...\n",
      " [0.3702422  0.6297578 ]\n",
      " [0.43549717 0.56450283]\n",
      " [0.39958526 0.60041474]]\n"
     ]
    }
   ],
   "source": [
    "probability = model.predict_proba(X_test)\n",
    "\n",
    "print (probability)"
   ]
  },
  {
   "cell_type": "markdown",
   "metadata": {},
   "source": [
    "# Predict Class Labels"
   ]
  },
  {
   "cell_type": "code",
   "execution_count": 141,
   "metadata": {},
   "outputs": [],
   "source": [
    "predicted = model.predict(X_test)"
   ]
  },
  {
   "cell_type": "markdown",
   "metadata": {},
   "source": [
    "# Evaluate The Model\n",
    "#### Confusion Matrix"
   ]
  },
  {
   "cell_type": "code",
   "execution_count": 142,
   "metadata": {},
   "outputs": [
    {
     "name": "stdout",
     "output_type": "stream",
     "text": [
      "[[203 451]\n",
      " [218 506]]\n"
     ]
    }
   ],
   "source": [
    "print(metrics.confusion_matrix(y_test, predicted)) "
   ]
  },
  {
   "cell_type": "code",
   "execution_count": 143,
   "metadata": {},
   "outputs": [
    {
     "name": "stdout",
     "output_type": "stream",
     "text": [
      "             precision    recall  f1-score   support\n",
      "\n",
      "         -1       0.48      0.31      0.38       654\n",
      "          1       0.53      0.70      0.60       724\n",
      "\n",
      "avg / total       0.51      0.51      0.50      1378\n",
      "\n"
     ]
    }
   ],
   "source": [
    "print(metrics.classification_report(y_test, predicted)) "
   ]
  },
  {
   "cell_type": "code",
   "execution_count": 144,
   "metadata": {},
   "outputs": [
    {
     "name": "stdout",
     "output_type": "stream",
     "text": [
      "0.5145137880986937\n"
     ]
    }
   ],
   "source": [
    "print(model.score(X_test,y_test))"
   ]
  },
  {
   "cell_type": "markdown",
   "metadata": {},
   "source": [
    "# Create Trading Strategy Using The Model"
   ]
  },
  {
   "cell_type": "code",
   "execution_count": 145,
   "metadata": {},
   "outputs": [
    {
     "data": {
      "text/plain": [
       "<matplotlib.legend.Legend at 0x1b042521cc0>"
      ]
     },
     "execution_count": 145,
     "metadata": {},
     "output_type": "execute_result"
    },
    {
     "data": {
      "image/png": "[encoded data removed]",
      "text/plain": [
       "<Figure size 720x360 with 1 Axes>"
      ]
     },
     "metadata": {
      "needs_background": "light"
     },
     "output_type": "display_data"
    }
   ],
   "source": [
    "df['Predicted_Signal'] = model.predict(X)\n",
    "df['Market_returns'] = np.log(df['Close']/df['Close'].shift(1))\n",
    "Cumulative_Market_returns = np.cumsum(df[split:]['Market_returns'])\n",
    "\n",
    "df['Startegy_returns'] = df['Market_returns']* df['Predicted_Signal'].shift(1)\n",
    "\n",
    "Cumulative_Strategy_returns = np.cumsum(df[split:]['Startegy_returns'])\n",
    "\n",
    "plt.figure(figsize=(10,5))\n",
    "plt.plot(Cumulative_Market_returns, color='r',label = 'Market Returns')\n",
    "plt.plot(Cumulative_Strategy_returns, color='g', label = 'Strategy Returns')\n",
    "plt.legend()"
   ]
  },
  {
   "cell_type": "code",
   "execution_count": 72,
   "metadata": {},
   "outputs": [
    {
     "data": {
      "text/plain": [
       "<matplotlib.legend.Legend at 0x1b041295b00>"
      ]
     },
     "execution_count": 72,
     "metadata": {},
     "output_type": "execute_result"
    },
    {
     "data": {
      "image/png": "[encoded data removed]",
      "text/plain": [
       "<Figure size 720x360 with 1 Axes>"
      ]
     },
     "metadata": {
      "needs_background": "light"
     },
     "output_type": "display_data"
    }
   ],
   "source": [
    "df['Predicted_Signal'] = model.predict(X)\n",
    "df['Market_returns'] = np.log(df['Close']/df['Close'].shift(1))\n",
    "Cumulative_Market_returns = np.cumsum(df[split:]['Market_returns'])\n",
    "\n",
    "df['Startegy_returns'] = df['Market_returns']* df['Predicted_Signal'].shift(1)\n",
    "\n",
    "Cumulative_Strategy_returns = np.cumsum(df[split:]['Startegy_returns'])\n",
    "\n",
    "plt.figure(figsize=(10,5))\n",
    "plt.plot(Cumulative_Market_returns, color='r',label = 'Market Returns')\n",
    "plt.plot(Cumulative_Strategy_returns, color='g', label = 'Strategy Returns')\n",
    "plt.legend()"
   ]
  },
  {
   "cell_type": "code",
   "execution_count": 48,
   "metadata": {},
   "outputs": [
    {
     "data": {
      "image/png": "[encoded data removed]",
      "text/plain": [
       "<Figure size 720x360 with 1 Axes>"
      ]
     },
     "metadata": {
      "needs_background": "light"
     },
     "output_type": "display_data"
    }
   ],
   "source": [
    "df['Predicted_Signal'] = model.predict(X)\n",
    "df['Market_returns'] = np.log(df['Close']/df['Close'].shift(1))\n",
    "Cumulative_Market_returns = np.cumsum(df[split:]['Market_returns'])\n",
    "\n",
    "df['Startegy_returns'] = df['Market_returns']* df['Predicted_Signal'].shift(1)\n",
    "\n",
    "Cumulative_Strategy_returns = np.cumsum(df[split:]['Startegy_returns'])\n",
    "\n",
    "plt.figure(figsize=(10,5))\n",
    "plt.plot(Cumulative_Market_returns, color='r',label = 'Market Returns')\n",
    "plt.plot(Cumulative_Strategy_returns, color='g', label = 'Strategy Returns')\n",
    "plt.legend()\n",
    "plt.show()"
   ]
  },
  {
   "cell_type": "code",
   "execution_count": null,
   "metadata": {},
   "outputs": [],
   "source": []
  },
  {
   "cell_type": "code",
   "execution_count": null,
   "metadata": {},
   "outputs": [],
   "source": []
  },
  {
   "cell_type": "code",
   "execution_count": null,
   "metadata": {},
   "outputs": [],
   "source": []
  },
  {
   "cell_type": "code",
   "execution_count": null,
   "metadata": {},
   "outputs": [],
   "source": []
  },
  {
   "cell_type": "code",
   "execution_count": null,
   "metadata": {},
   "outputs": [],
   "source": []
  },
  {
   "cell_type": "code",
   "execution_count": null,
   "metadata": {},
   "outputs": [],
   "source": []
  },
  {
   "cell_type": "code",
   "execution_count": null,
   "metadata": {},
   "outputs": [],
   "source": []
  },
  {
   "cell_type": "code",
   "execution_count": null,
   "metadata": {},
   "outputs": [],
   "source": []
  },
  {
   "cell_type": "code",
   "execution_count": null,
   "metadata": {},
   "outputs": [],
   "source": []
  }
 ],
 "metadata": {
  "kernelspec": {
   "display_name": "Python 3",
   "language": "python",
   "name": "python3"
  },
  "language_info": {
   "codemirror_mode": {
    "name": "ipython",
    "version": 3
   },
   "file_extension": ".py",
   "mimetype": "text/x-python",
   "name": "python",
   "nbconvert_exporter": "python",
   "pygments_lexer": "ipython3",
   "version": "3.7.0"
  }
 },
 "nbformat": 4,
 "nbformat_minor": 2
}
